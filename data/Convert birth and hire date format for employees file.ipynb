{
 "cells": [
  {
   "cell_type": "code",
   "execution_count": 1,
   "metadata": {},
   "outputs": [],
   "source": [
    "import pandas as pd\n",
    "\n",
    "# Specify the input and output file paths\n",
    "input_file = 'C:/Users/Jean/Desktop/Starter_Code/data/employees.csv'\n",
    "output_file = 'C:/Users/Jean/Desktop/Starter_Code/data/employees_converted.csv'\n",
    "\n",
    "# Load the CSV file\n",
    "df = pd.read_csv(input_file)\n",
    "\n",
    "# Convert the date columns to the correct format\n",
    "df['birth_date'] = pd.to_datetime(df['birth_date'], format='%m/%d/%Y').dt.strftime('%Y-%m-%d')\n",
    "df['hire_date'] = pd.to_datetime(df['hire_date'], format='%m/%d/%Y').dt.strftime('%Y-%m-%d')\n",
    "\n",
    "# Save the converted data to a new CSV file\n",
    "df.to_csv(output_file, index=False)"
   ]
  }
 ],
 "metadata": {
  "kernelspec": {
   "display_name": "dev3.10",
   "language": "python",
   "name": "python3"
  },
  "language_info": {
   "codemirror_mode": {
    "name": "ipython",
    "version": 3
   },
   "file_extension": ".py",
   "mimetype": "text/x-python",
   "name": "python",
   "nbconvert_exporter": "python",
   "pygments_lexer": "ipython3",
   "version": "3.10.14"
  }
 },
 "nbformat": 4,
 "nbformat_minor": 2
}
